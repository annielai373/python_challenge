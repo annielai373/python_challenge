{
 "cells": [
  {
   "cell_type": "code",
   "execution_count": 1,
   "metadata": {},
   "outputs": [],
   "source": [
    "# Dependencies\n",
    "import os  #Create file paths across operating systems\n",
    "import csv   # Module for reading CSV files"
   ]
  },
  {
   "cell_type": "code",
   "execution_count": 30,
   "metadata": {},
   "outputs": [
    {
     "name": "stdout",
     "output_type": "stream",
     "text": [
      "The total number of votes in the dataset:  3521001\n",
      "\n",
      "The list of candidates who recieved votes: ['Khan', 'Correy', 'Li', \"O'Tooley\"]\n",
      "\n",
      "The total number of votes each candidate won: {'Khan': 2218231, 'Correy': 704200, 'Li': 492940, \"O'Tooley\": 105630}\n"
     ]
    }
   ],
   "source": [
    "# Path to collect data from the Resources folder\n",
    "csvpath = os.path.join(\"Resources\", \"election_data.csv\")\n",
    "\n",
    "#Variables\n",
    "previous=0\n",
    "total_votes=0\n",
    "candidate_list=[]\n",
    "candidate_percentage={}\n",
    "total_votes_candidate={}\n",
    "\n",
    "    \n",
    "#Reading using CSV module\n",
    "with open(csvpath, newline=\"\") as csvfile:\n",
    "    election_data = csv.reader(csvfile, delimiter=',')\n",
    "    next(election_data)\n",
    "    for row in election_data:\n",
    "\n",
    "        #The total number of votes cast in the dataset\n",
    "        total_votes += 1\n",
    "        candidate_name=row[2]\n",
    "        if candidate_name not in candidate_list:\n",
    "            candidate_list.append(candidate_name)\n",
    "            total_votes_candidate[candidate_name]=0\n",
    "        total_votes_candidate[candidate_name]+=1\n",
    "    \n",
    "    \n",
    "    print(\"The total number of votes in the dataset: \" ,total_votes)\n",
    "    print(\"\\nThe list of candidates who recieved votes:\",candidate_list)  \n",
    "    print(\"\\nThe total number of votes each candidate won:\",total_votes_candidate)"
   ]
  },
  {
   "cell_type": "code",
   "execution_count": null,
   "metadata": {},
   "outputs": [],
   "source": []
  },
  {
   "cell_type": "code",
   "execution_count": null,
   "metadata": {},
   "outputs": [],
   "source": []
  },
  {
   "cell_type": "code",
   "execution_count": 31,
   "metadata": {},
   "outputs": [
    {
     "name": "stdout",
     "output_type": "stream",
     "text": [
      "\n",
      "The percentage of votes each candidate won: {}\n"
     ]
    },
    {
     "ename": "NameError",
     "evalue": "name 'winner' is not defined",
     "output_type": "error",
     "traceback": [
      "\u001b[0;31m---------------------------------------------------------------------------\u001b[0m",
      "\u001b[0;31mNameError\u001b[0m                                 Traceback (most recent call last)",
      "\u001b[0;32m<ipython-input-31-37161ea8903c>\u001b[0m in \u001b[0;36m<module>\u001b[0;34m\u001b[0m\n\u001b[1;32m      1\u001b[0m \u001b[0mprint\u001b[0m\u001b[0;34m(\u001b[0m\u001b[0;34m\"\\nThe percentage of votes each candidate won:\"\u001b[0m\u001b[0;34m,\u001b[0m\u001b[0mcandidate_percentage\u001b[0m\u001b[0;34m)\u001b[0m\u001b[0;34m\u001b[0m\u001b[0;34m\u001b[0m\u001b[0m\n\u001b[0;32m----> 2\u001b[0;31m \u001b[0mprint\u001b[0m\u001b[0;34m(\u001b[0m\u001b[0;34m\"\\nThe winner of the election based on popular vote is:\"\u001b[0m\u001b[0;34m,\u001b[0m\u001b[0mwinner\u001b[0m\u001b[0;34m)\u001b[0m\u001b[0;34m\u001b[0m\u001b[0;34m\u001b[0m\u001b[0m\n\u001b[0m",
      "\u001b[0;31mNameError\u001b[0m: name 'winner' is not defined"
     ]
    }
   ],
   "source": [
    "print(\"\\nThe percentage of votes each candidate won:\",candidate_percentage)\n",
    "print(\"\\nThe winner of the election based on popular vote is:\",winner)"
   ]
  },
  {
   "cell_type": "code",
   "execution_count": null,
   "metadata": {},
   "outputs": [],
   "source": []
  }
 ],
 "metadata": {
  "kernelspec": {
   "display_name": "Python 3",
   "language": "python",
   "name": "python3"
  },
  "language_info": {
   "codemirror_mode": {
    "name": "ipython",
    "version": 3
   },
   "file_extension": ".py",
   "mimetype": "text/x-python",
   "name": "python",
   "nbconvert_exporter": "python",
   "pygments_lexer": "ipython3",
   "version": "3.7.1"
  }
 },
 "nbformat": 4,
 "nbformat_minor": 2
}
